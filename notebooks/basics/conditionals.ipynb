{
 "cells": [
  {
   "cell_type": "markdown",
   "metadata": {},
   "source": [
    "# Conditionals"
   ]
  },
  {
   "cell_type": "markdown",
   "metadata": {},
   "source": [
    "## If-elif-else"
   ]
  },
  {
   "cell_type": "code",
   "execution_count": 2,
   "metadata": {},
   "outputs": [
    {
     "name": "stdout",
     "output_type": "stream",
     "text": [
      "Ich nicht mehr\n"
     ]
    }
   ],
   "source": [
    "x = 3\n",
    "\n",
    "if x > 5 and x < 10:\n",
    "    print('x is greater than five!')\n",
    "\n",
    "print('Not part of the if')"
   ]
  },
  {
   "cell_type": "code",
   "execution_count": 3,
   "metadata": {},
   "outputs": [
    {
     "name": "stdout",
     "output_type": "stream",
     "text": [
      "x is not greater than five.\n",
      "Not part of the if-else\n"
     ]
    }
   ],
   "source": [
    "if x > 5:\n",
    "    print('x is greater than five!')\n",
    "else:\n",
    "    print('x is not greater than five.')\n",
    "\n",
    "print('Not part of the if-else')"
   ]
  },
  {
   "cell_type": "code",
   "execution_count": null,
   "metadata": {},
   "outputs": [],
   "source": [
    "if x > 5:\n",
    "    print('x is greater than five')\n",
    "elif x < 3:\n",
    "    print('x is less than three')\n",
    "# ...\n",
    "else:\n",
    "    pass"
   ]
  },
  {
   "cell_type": "code",
   "execution_count": null,
   "metadata": {},
   "outputs": [],
   "source": [
    "if x < 5:\n",
    "    pass\n",
    "elif x < 10:\n",
    "    pass\n",
    "elif x < 20:\n",
    "    pass\n",
    "\n",
    "# Same as:\n",
    "\n",
    "if x < 5:\n",
    "    pass\n",
    "else:\n",
    "    if x < 10:\n",
    "        pass\n",
    "    else:\n",
    "        if x < 20:\n",
    "            pass"
   ]
  },
  {
   "cell_type": "markdown",
   "metadata": {},
   "source": [
    "## Match"
   ]
  },
  {
   "cell_type": "code",
   "execution_count": null,
   "metadata": {},
   "outputs": [],
   "source": [
    "var = 3\n",
    "match var:\n",
    "    case 1:\n",
    "        pass\n",
    "    case 2:\n",
    "        pass\n",
    "    case _: # default\n",
    "        pass"
   ]
  },
  {
   "cell_type": "code",
   "execution_count": 7,
   "metadata": {},
   "outputs": [
    {
     "name": "stdout",
     "output_type": "stream",
     "text": [
      "I don't like Hackbraten...\n"
     ]
    }
   ],
   "source": [
    "fruit = input('Name a fruit [Apple, Banana]:')\n",
    "\n",
    "match fruit:\n",
    "    case \"Apple\":\n",
    "        print(\"An apple a day keeps the doctor away\")\n",
    "    case \"Banana\":\n",
    "        print(\"Monkey mind need monkey food!\")\n",
    "    case _: # default\n",
    "        print(\"I don't like \" + fruit + \"...\")"
   ]
  },
  {
   "cell_type": "code",
   "execution_count": null,
   "metadata": {},
   "outputs": [],
   "source": [
    "if fruit == \"Apple\":\n",
    "    print(\"An apple a day keeps the doctor away\")\n",
    "elif fruit == \"Banana\":\n",
    "    print(\"Monkey mind need monkey food!\")\n",
    "else:\n",
    "    print(\"I don't like \" + fruit + \"...\")"
   ]
  },
  {
   "cell_type": "markdown",
   "metadata": {},
   "source": [
    "## Ternary Operator (shorthand if-else)"
   ]
  },
  {
   "cell_type": "code",
   "execution_count": 15,
   "metadata": {},
   "outputs": [
    {
     "data": {
      "text/plain": [
       "True"
      ]
     },
     "execution_count": 15,
     "metadata": {},
     "output_type": "execute_result"
    }
   ],
   "source": [
    "bool(True) # True\n",
    "bool(False) # False\n",
    "\n",
    "bool(1) # True\n",
    "bool(42) # True\n",
    "bool(-2.5) # True\n",
    "bool(0) # False\n",
    "bool(0.0) # False\n",
    "\n",
    "# Vorsicht bei strings!\n",
    "\n",
    "bool('') # False\n",
    "bool('Egal was') # True\n",
    "bool('0') # True\n",
    "bool('0.0') # True"
   ]
  },
  {
   "cell_type": "code",
   "execution_count": 12,
   "metadata": {},
   "outputs": [
    {
     "data": {
      "text/plain": [
       "('', 'No')"
      ]
     },
     "execution_count": 12,
     "metadata": {},
     "output_type": "execute_result"
    }
   ],
   "source": [
    "x = input('Magst du Käs?')\n",
    "y = 'Yes' if bool(x) else 'No'\n",
    "x, y"
   ]
  },
  {
   "cell_type": "code",
   "execution_count": 38,
   "metadata": {},
   "outputs": [
    {
     "name": "stdout",
     "output_type": "stream",
     "text": [
      "Das war wohl nichts: Quatsch\n",
      "Das war wohl nichts: asd\n",
      "Das war wohl nichts: Murks\n",
      "Das war wohl nichts: asdf\n",
      "Das war wohl nichts: Keine Zahl\n",
      "Das war wohl nichts: Schade\n",
      "Das war wohl nichts: DUmmes Zeug\n"
     ]
    },
    {
     "data": {
      "text/plain": [
       "(str, int)"
      ]
     },
     "execution_count": 38,
     "metadata": {},
     "output_type": "execute_result"
    }
   ],
   "source": [
    "\n",
    "while True:\n",
    "    eingabe = input('Gib mir eine Zahl!')\n",
    "    try:\n",
    "        zahl = int(eingabe)\n",
    "        break\n",
    "    except ValueError:\n",
    "        print('Das war wohl nichts: ' + eingabe)\n",
    "\n",
    "type(eingabe), type(zahl) # int/float"
   ]
  },
  {
   "cell_type": "code",
   "execution_count": 28,
   "metadata": {},
   "outputs": [
    {
     "data": {
      "text/plain": [
       "'23'"
      ]
     },
     "execution_count": 28,
     "metadata": {},
     "output_type": "execute_result"
    }
   ],
   "source": [
    "'2' + '3'"
   ]
  },
  {
   "cell_type": "code",
   "execution_count": 29,
   "metadata": {},
   "outputs": [
    {
     "data": {
      "text/plain": [
       "5"
      ]
     },
     "execution_count": 29,
     "metadata": {},
     "output_type": "execute_result"
    }
   ],
   "source": [
    "2 + 3"
   ]
  },
  {
   "cell_type": "code",
   "execution_count": 30,
   "metadata": {},
   "outputs": [
    {
     "ename": "TypeError",
     "evalue": "can only concatenate str (not \"int\") to str",
     "output_type": "error",
     "traceback": [
      "\u001b[0;31m---------------------------------------------------------------------------\u001b[0m",
      "\u001b[0;31mTypeError\u001b[0m                                 Traceback (most recent call last)",
      "Cell \u001b[0;32mIn[30], line 1\u001b[0m\n\u001b[0;32m----> 1\u001b[0m \u001b[38;5;124;43m'\u001b[39;49m\u001b[38;5;124;43m2\u001b[39;49m\u001b[38;5;124;43m'\u001b[39;49m\u001b[43m \u001b[49m\u001b[38;5;241;43m+\u001b[39;49m\u001b[43m \u001b[49m\u001b[38;5;241;43m3\u001b[39;49m\n",
      "\u001b[0;31mTypeError\u001b[0m: can only concatenate str (not \"int\") to str"
     ]
    }
   ],
   "source": [
    "'2' + 3 # TypeError!"
   ]
  }
 ],
 "metadata": {
  "kernelspec": {
   "display_name": ".venv",
   "language": "python",
   "name": "python3"
  },
  "language_info": {
   "codemirror_mode": {
    "name": "ipython",
    "version": 3
   },
   "file_extension": ".py",
   "mimetype": "text/x-python",
   "name": "python",
   "nbconvert_exporter": "python",
   "pygments_lexer": "ipython3",
   "version": "3.10.12"
  }
 },
 "nbformat": 4,
 "nbformat_minor": 2
}
